{
 "cells": [
  {
   "cell_type": "code",
   "execution_count": 1,
   "metadata": {},
   "outputs": [],
   "source": [
    "%matplotlib inline\n",
    "import pandas as pd\n",
    "import geopandas as gpd\n",
    "import nivapy3 as nivapy\n",
    "import matplotlib.pyplot as plt\n",
    "\n",
    "plt.style.use('ggplot')"
   ]
  },
  {
   "cell_type": "markdown",
   "metadata": {},
   "source": [
    "# Add GeoJson data to Etna (PostGIS)\n",
    "\n",
    "Adding a GeoJson file to the \"nivakart\" PostGIS database running on the Etna server."
   ]
  },
  {
   "cell_type": "code",
   "execution_count": 2,
   "metadata": {},
   "outputs": [],
   "source": [
    "def connect():\n",
    "    import getpass\n",
    "    import os\n",
    "    from sqlalchemy import create_engine\n",
    "\n",
    "    # Get credentials\n",
    "    host = getpass.getpass(prompt='Host: ')\n",
    "    port = getpass.getpass(prompt='Port: ')\n",
    "    db = getpass.getpass(prompt='DB name: ')    \n",
    "    user = getpass.getpass(prompt='Username: ')\n",
    "    pw = getpass.getpass(prompt='Password: ')\n",
    "    \n",
    "    # Connect\n",
    "    try:\n",
    "        conn_str = r'postgresql+psycopg2://%s:%s@%s:%s/%s' % (user, pw, host, port, db)\n",
    "        engine = create_engine(conn_str)\n",
    "        conn = engine.connect() \n",
    "        print('Connection successful.')\n",
    "        \n",
    "    except Exception as e: \n",
    "        print(e)\n",
    "\n",
    "    return engine"
   ]
  },
  {
   "cell_type": "code",
   "execution_count": 3,
   "metadata": {},
   "outputs": [
    {
     "name": "stdin",
     "output_type": "stream",
     "text": [
      "Host:  ············\n",
      "Port:  ····\n",
      "DB name:  ········\n",
      "Username:  ········\n",
      "Password:  ········\n"
     ]
    },
    {
     "name": "stdout",
     "output_type": "stream",
     "text": [
      "Connection successful.\n"
     ]
    }
   ],
   "source": [
    "# Connect to Etna\n",
    "eng = connect()"
   ]
  },
  {
   "cell_type": "markdown",
   "metadata": {},
   "source": [
    "## 1. Read GeoJson"
   ]
  },
  {
   "cell_type": "code",
   "execution_count": 4,
   "metadata": {},
   "outputs": [
    {
     "name": "stdout",
     "output_type": "stream",
     "text": [
      "CRS: {'init': 'epsg:4326'}\n",
      "The following geometries are present: ['Point' 'Polygon' 'LineString']\n",
      "3886 polygons in dataset.\n"
     ]
    },
    {
     "data": {
      "text/html": [
       "<div>\n",
       "<style scoped>\n",
       "    .dataframe tbody tr th:only-of-type {\n",
       "        vertical-align: middle;\n",
       "    }\n",
       "\n",
       "    .dataframe tbody tr th {\n",
       "        vertical-align: top;\n",
       "    }\n",
       "\n",
       "    .dataframe thead th {\n",
       "        text-align: right;\n",
       "    }\n",
       "</style>\n",
       "<table border=\"1\" class=\"dataframe\">\n",
       "  <thead>\n",
       "    <tr style=\"text-align: right;\">\n",
       "      <th></th>\n",
       "      <th>objekttype</th>\n",
       "      <th>datafangstdato</th>\n",
       "      <th>kvalitet_nøyaktighet</th>\n",
       "      <th>kvalitet_målemetode</th>\n",
       "      <th>_timestamp</th>\n",
       "      <th>grensepunktnummer</th>\n",
       "      <th>grensemerkenedsatti</th>\n",
       "      <th>grensepunkttype</th>\n",
       "      <th>ident_navnerom</th>\n",
       "      <th>ident_lokalid</th>\n",
       "      <th>...</th>\n",
       "      <th>vern_verneplan</th>\n",
       "      <th>vernnetverk</th>\n",
       "      <th>områdeplanstatus_plandato</th>\n",
       "      <th>moblandprioritet</th>\n",
       "      <th>nettverk</th>\n",
       "      <th>jsvsak</th>\n",
       "      <th>adm_grense</th>\n",
       "      <th>følger_terrengdet</th>\n",
       "      <th>geometry</th>\n",
       "      <th>geom_type</th>\n",
       "    </tr>\n",
       "  </thead>\n",
       "  <tbody>\n",
       "    <tr>\n",
       "      <th>18283</th>\n",
       "      <td>Naturvernområde</td>\n",
       "      <td>None</td>\n",
       "      <td>None</td>\n",
       "      <td>None</td>\n",
       "      <td>2019-05-20_13-00</td>\n",
       "      <td>None</td>\n",
       "      <td>None</td>\n",
       "      <td>None</td>\n",
       "      <td>NO.MILJODIREKTORATET.NATURBASE</td>\n",
       "      <td>VV00000001</td>\n",
       "      <td>...</td>\n",
       "      <td>3</td>\n",
       "      <td>2</td>\n",
       "      <td>1 1</td>\n",
       "      <td>G</td>\n",
       "      <td></td>\n",
       "      <td>None</td>\n",
       "      <td>None</td>\n",
       "      <td>None</td>\n",
       "      <td>POLYGON ((29.29534412975211 69.75702317495124,...</td>\n",
       "      <td>Polygon</td>\n",
       "    </tr>\n",
       "    <tr>\n",
       "      <th>18284</th>\n",
       "      <td>Naturvernområde</td>\n",
       "      <td>None</td>\n",
       "      <td>None</td>\n",
       "      <td>None</td>\n",
       "      <td>2019-05-20_13-00</td>\n",
       "      <td>None</td>\n",
       "      <td>None</td>\n",
       "      <td>None</td>\n",
       "      <td>NO.MILJODIREKTORATET.NATURBASE</td>\n",
       "      <td>VV00000002</td>\n",
       "      <td>...</td>\n",
       "      <td>6</td>\n",
       "      <td>2</td>\n",
       "      <td>1 1</td>\n",
       "      <td>G</td>\n",
       "      <td></td>\n",
       "      <td>None</td>\n",
       "      <td>None</td>\n",
       "      <td>None</td>\n",
       "      <td>POLYGON ((29.11466048992764 69.15360286526145,...</td>\n",
       "      <td>Polygon</td>\n",
       "    </tr>\n",
       "    <tr>\n",
       "      <th>18285</th>\n",
       "      <td>Naturvernområde</td>\n",
       "      <td>None</td>\n",
       "      <td>None</td>\n",
       "      <td>None</td>\n",
       "      <td>2019-05-20_13-00</td>\n",
       "      <td>None</td>\n",
       "      <td>None</td>\n",
       "      <td>None</td>\n",
       "      <td>NO.MILJODIREKTORATET.NATURBASE</td>\n",
       "      <td>VV00000003</td>\n",
       "      <td>...</td>\n",
       "      <td>8</td>\n",
       "      <td></td>\n",
       "      <td>1 1</td>\n",
       "      <td>G</td>\n",
       "      <td></td>\n",
       "      <td>None</td>\n",
       "      <td>None</td>\n",
       "      <td>None</td>\n",
       "      <td>POLYGON ((24.2207241407858 70.51712597197081, ...</td>\n",
       "      <td>Polygon</td>\n",
       "    </tr>\n",
       "    <tr>\n",
       "      <th>18286</th>\n",
       "      <td>Naturvernområde</td>\n",
       "      <td>None</td>\n",
       "      <td>None</td>\n",
       "      <td>None</td>\n",
       "      <td>2019-05-20_13-00</td>\n",
       "      <td>None</td>\n",
       "      <td>None</td>\n",
       "      <td>None</td>\n",
       "      <td>NO.MILJODIREKTORATET.NATURBASE</td>\n",
       "      <td>VV00000004</td>\n",
       "      <td>...</td>\n",
       "      <td>8</td>\n",
       "      <td></td>\n",
       "      <td>1 1</td>\n",
       "      <td>G</td>\n",
       "      <td></td>\n",
       "      <td>None</td>\n",
       "      <td>None</td>\n",
       "      <td>None</td>\n",
       "      <td>POLYGON ((26.21680782438557 70.78675618564372,...</td>\n",
       "      <td>Polygon</td>\n",
       "    </tr>\n",
       "    <tr>\n",
       "      <th>18287</th>\n",
       "      <td>Naturvernområde</td>\n",
       "      <td>None</td>\n",
       "      <td>None</td>\n",
       "      <td>None</td>\n",
       "      <td>2019-05-20_13-00</td>\n",
       "      <td>None</td>\n",
       "      <td>None</td>\n",
       "      <td>None</td>\n",
       "      <td>NO.MILJODIREKTORATET.NATURBASE</td>\n",
       "      <td>VV00000005</td>\n",
       "      <td>...</td>\n",
       "      <td>8</td>\n",
       "      <td>2</td>\n",
       "      <td>1 1</td>\n",
       "      <td>G</td>\n",
       "      <td></td>\n",
       "      <td>None</td>\n",
       "      <td>None</td>\n",
       "      <td>None</td>\n",
       "      <td>POLYGON ((30.99918999876512 70.41353975557786,...</td>\n",
       "      <td>Polygon</td>\n",
       "    </tr>\n",
       "  </tbody>\n",
       "</table>\n",
       "<p>5 rows × 32 columns</p>\n",
       "</div>"
      ],
      "text/plain": [
       "            objekttype datafangstdato kvalitet_nøyaktighet  \\\n",
       "18283  Naturvernområde           None                 None   \n",
       "18284  Naturvernområde           None                 None   \n",
       "18285  Naturvernområde           None                 None   \n",
       "18286  Naturvernområde           None                 None   \n",
       "18287  Naturvernområde           None                 None   \n",
       "\n",
       "      kvalitet_målemetode        _timestamp grensepunktnummer  \\\n",
       "18283                None  2019-05-20_13-00              None   \n",
       "18284                None  2019-05-20_13-00              None   \n",
       "18285                None  2019-05-20_13-00              None   \n",
       "18286                None  2019-05-20_13-00              None   \n",
       "18287                None  2019-05-20_13-00              None   \n",
       "\n",
       "      grensemerkenedsatti grensepunkttype                  ident_navnerom  \\\n",
       "18283                None            None  NO.MILJODIREKTORATET.NATURBASE   \n",
       "18284                None            None  NO.MILJODIREKTORATET.NATURBASE   \n",
       "18285                None            None  NO.MILJODIREKTORATET.NATURBASE   \n",
       "18286                None            None  NO.MILJODIREKTORATET.NATURBASE   \n",
       "18287                None            None  NO.MILJODIREKTORATET.NATURBASE   \n",
       "\n",
       "      ident_lokalid  ... vern_verneplan vernnetverk områdeplanstatus_plandato  \\\n",
       "18283    VV00000001  ...              3           2                       1 1   \n",
       "18284    VV00000002  ...              6           2                       1 1   \n",
       "18285    VV00000003  ...              8                                   1 1   \n",
       "18286    VV00000004  ...              8                                   1 1   \n",
       "18287    VV00000005  ...              8           2                       1 1   \n",
       "\n",
       "      moblandprioritet nettverk jsvsak adm_grense følger_terrengdet  \\\n",
       "18283                G            None       None              None   \n",
       "18284                G            None       None              None   \n",
       "18285                G            None       None              None   \n",
       "18286                G            None       None              None   \n",
       "18287                G            None       None              None   \n",
       "\n",
       "                                                geometry geom_type  \n",
       "18283  POLYGON ((29.29534412975211 69.75702317495124,...   Polygon  \n",
       "18284  POLYGON ((29.11466048992764 69.15360286526145,...   Polygon  \n",
       "18285  POLYGON ((24.2207241407858 70.51712597197081, ...   Polygon  \n",
       "18286  POLYGON ((26.21680782438557 70.78675618564372,...   Polygon  \n",
       "18287  POLYGON ((30.99918999876512 70.41353975557786,...   Polygon  \n",
       "\n",
       "[5 rows x 32 columns]"
      ]
     },
     "execution_count": 4,
     "metadata": {},
     "output_type": "execute_result"
    }
   ],
   "source": [
    "# Read file from Roar\n",
    "gdf = gpd.read_file('Naturvernomr_2019-05-20_13-00.json')\n",
    "\n",
    "# Get geo_type for each row\n",
    "gdf['geom_type'] = gdf['geometry'].geom_type\n",
    "\n",
    "# Describe\n",
    "print('CRS:', gdf.crs)\n",
    "print('The following geometries are present:', gdf['geom_type'].unique())\n",
    "\n",
    "# Get just polygons\n",
    "gdf = gdf.query(\"geom_type == 'Polygon'\")\n",
    "print(len(gdf), 'polygons in dataset.')\n",
    "\n",
    "gdf.head()"
   ]
  },
  {
   "cell_type": "code",
   "execution_count": 5,
   "metadata": {},
   "outputs": [
    {
     "data": {
      "text/plain": [
       "<matplotlib.axes._subplots.AxesSubplot at 0x7f5d3925d2e8>"
      ]
     },
     "execution_count": 5,
     "metadata": {},
     "output_type": "execute_result"
    },
    {
     "data": {
      "image/png": "[encoded data removed]",
      "text/plain": [
       "<Figure size 720x720 with 1 Axes>"
      ]
     },
     "metadata": {
      "needs_background": "light"
     },
     "output_type": "display_data"
    }
   ],
   "source": [
    "gdf.plot(figsize=(10,10))"
   ]
  },
  {
   "cell_type": "markdown",
   "metadata": {},
   "source": [
    "## 2. Add to db"
   ]
  },
  {
   "cell_type": "code",
   "execution_count": 6,
   "metadata": {},
   "outputs": [],
   "source": [
    "nivapy.da.gdf_to_postgis(gdf, \n",
    "                         'miljodir_naturvern_f',\n",
    "                         'public',\n",
    "                         eng,\n",
    "                         'public_miljodir_naturvern_f_spidx',\n",
    "                         if_exists='replace')"
   ]
  }
 ],
 "metadata": {
  "kernelspec": {
   "display_name": "Python 3",
   "language": "python",
   "name": "python3"
  },
  "language_info": {
   "codemirror_mode": {
    "name": "ipython",
    "version": 3
   },
   "file_extension": ".py",
   "mimetype": "text/x-python",
   "name": "python",
   "nbconvert_exporter": "python",
   "pygments_lexer": "ipython3",
   "version": "3.6.8"
  }
 },
 "nbformat": 4,
 "nbformat_minor": 2
}
