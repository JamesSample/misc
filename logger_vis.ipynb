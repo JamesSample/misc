{
 "cells": [
  {
   "cell_type": "code",
   "execution_count": 1,
   "metadata": {},
   "outputs": [
    {
     "data": {
      "text/html": [
       "<script>requirejs.config({paths: { 'plotly': ['https://cdn.plot.ly/plotly-latest.min']},});if(!window.Plotly) {{require(['plotly'],function(plotly) {window.Plotly=plotly;});}}</script>"
      ],
      "text/vnd.plotly.v1+html": [
       "<script>requirejs.config({paths: { 'plotly': ['https://cdn.plot.ly/plotly-latest.min']},});if(!window.Plotly) {{require(['plotly'],function(plotly) {window.Plotly=plotly;});}}</script>"
      ]
     },
     "metadata": {},
     "output_type": "display_data"
    }
   ],
   "source": [
    "import plotly as py\n",
    "import pandas as pd\n",
    "import datetime as dt\n",
    "import cufflinks as cf\n",
    "import pickle\n",
    "from ftplib import FTP\n",
    "\n",
    "# Initialise for offline plotting\n",
    "py.offline.init_notebook_mode(connected=True)"
   ]
  },
  {
   "cell_type": "markdown",
   "metadata": {},
   "source": [
    "# Online visualisation of logger data\n",
    "\n",
    "Rolf has some loggers that automatically upload data to NIVA's FTP server. This code provides a starting point for automatically parsing this data and creating some simple online visualisations.\n",
    "\n",
    "**Note:** The approach here is preliminary and can be substantially improved. At present, I am not using NIVA's new data platform at all, but instead using some older tools deployed in previous projects. With some help from e.g. Akos, we could make a much nicer interface, incorporating additional functionality derived from the new platform.\n",
    "\n",
    "**Note 2:** This demonstration currently runs on my laptop (i.e. locally), so the plots are only updated when my laptop is turned on and this code is run. To regularly update the plots, we need to transfer the code to a server and setup a \"scheduled task\" to e.g. run the code once per day. This is easy, but not necessary to begin with.\n",
    "\n",
    "## 1. Python environment\n",
    "\n",
    "For ease of deployment later, it is convenient to create a clean Python environment for the new application:\n",
    "\n",
    "    conda create -n rolf_loggers python=3.6\n",
    "    \n",
    "    conda install -c dhirschfeld pandas plotly cufflinks jupyter notebook\n",
    "    \n",
    "Note that the `jupyter notebook` part is only required here for development and testing.\n",
    "\n",
    "## 2. Read data from FTP server\n",
    "\n",
    "Rolf currently has two loggers (IDs 17113521 and 18033677) and we are only interested in the data from 03/05/2018 onwards. To avoid sharing the FTP login details via GitHub, I have created a `.pickle` file on my local computer, which is used to connect in the code below.\n",
    "\n",
    "**Note:** I'm not sure what parameters Rolf is interested in, so have just picked four at random in the code below. I originally thought the main focus was on pH, but this variable is not present in the data from 03/05/2018 onwards. **Check with Rolf**.\n",
    "\n",
    "### 2.1. User input"
   ]
  },
  {
   "cell_type": "code",
   "execution_count": 2,
   "metadata": {},
   "outputs": [],
   "source": [
    "# Variables of interest\n",
    "pars = ['Temperature(°C)[1:1]', 'Chloride (Cl-)(mg/L)[24:117]', \n",
    "        'Barometric Pressure(mmHg)[16:22]', 'External Voltage(V)[32:163]']\n",
    "\n",
    "# Start date\n",
    "st_date = '2018-05-03'\n",
    "\n",
    "# Loggers IDs to consider\n",
    "loggers = ['17113521', '18033677']"
   ]
  },
  {
   "cell_type": "markdown",
   "metadata": {},
   "source": [
    "### 2.2. Process FTP data"
   ]
  },
  {
   "cell_type": "code",
   "execution_count": 3,
   "metadata": {},
   "outputs": [
    {
     "data": {
      "text/plain": [
       "'221 Goodbye, closing session.'"
      ]
     },
     "execution_count": 3,
     "metadata": {},
     "output_type": "execute_result"
    }
   ],
   "source": [
    "# Read FTP credentials\n",
    "with open('rolf_ftp_creds.pickle', 'rb') as handle:\n",
    "    ftp_creds = pickle.load(handle)\n",
    "    \n",
    "# Connect to FTP\n",
    "ftp = FTP(host=ftp_creds['host'], \n",
    "          user=ftp_creds['user'], \n",
    "          passwd=ftp_creds['pw'])\n",
    "\n",
    "# Empty dict for data\n",
    "df_dict = {}\n",
    "for logger in loggers:\n",
    "    df_dict[logger] = []\n",
    "    \n",
    "# Parse user start date\n",
    "st_date = dt.datetime.strptime(st_date, '%Y-%m-%d')\n",
    "\n",
    "# Get list of files from server\n",
    "flist = []\n",
    "ftp.retrlines('MLSD', flist.append)\n",
    "\n",
    "# Loop over files\n",
    "for item in flist:\n",
    "    # Get file name and metadata\n",
    "    facts, fname = item.split('; ')\n",
    "    \n",
    "    # Get file date from metadata\n",
    "    fdate = facts.split(';')[2][7:21]\n",
    "    fdate = dt.datetime.strptime(fdate, '%Y%m%d%H%M%S')\n",
    "\n",
    "    # Get logger ID\n",
    "    log_id = fname.split('__')[0]\n",
    "    \n",
    "    if ((log_id in df_dict.keys()) and \n",
    "        (fdate >= st_date)):\n",
    "        # Read from server to local disk\n",
    "        tmp_file = open('temp.txt', 'wb')\n",
    "        ftp.retrbinary('RETR %s' % fname, tmp_file.write)\n",
    "        tmp_file.close()\n",
    "\n",
    "        # Read local file to df\n",
    "        df = pd.read_csv('temp.txt', \n",
    "                         sep=';', \n",
    "                         header=6, \n",
    "                         skipfooter=24, \n",
    "                         encoding='windows-1252', \n",
    "                         engine='python', \n",
    "                         decimal=',')\n",
    "        \n",
    "        # Build datetime index\n",
    "        df.index = pd.to_datetime(df['Date'] + ' ' + df['Time'],\n",
    "                                  format='%d/%m/%Y %H:%M')\n",
    "        \n",
    "        # Get cols of interest\n",
    "        df = df[pars]\n",
    "                           \n",
    "        # Append to dict\n",
    "        df_dict[log_id].append(df)\n",
    "    \n",
    "ftp.quit()"
   ]
  },
  {
   "cell_type": "markdown",
   "metadata": {},
   "source": [
    "## 3. Upload to Plotly\n",
    "\n",
    "[Plotly](https://plot.ly/) provides tools for online data visualisation and analysis. It is not something we use much at NIVA, as we have decided to develop our own platform instead, but I have a personal Plotly account, which is convenient for developing simple applications like this one. This is not a long-term solution - it's just a useful starting point.\n",
    "\n",
    "**Note:** For testing, change `py.plotly.plot` in the code below to `py.plotly.iplot` to see the result rendered in the notebook (as well as uploading online)"
   ]
  },
  {
   "cell_type": "code",
   "execution_count": 4,
   "metadata": {},
   "outputs": [],
   "source": [
    "# Loop over dict\n",
    "for log_id in df_dict.keys():\n",
    "    # Concatenate all data to single df\n",
    "    df = pd.concat(df_dict[log_id], axis=0)\n",
    "    \n",
    "    # Create plot and upload\n",
    "    fig = df.iplot(subplots=True, \n",
    "                   subplot_titles=True, \n",
    "                   legend=False, \n",
    "                   shared_xaxes=False, \n",
    "                   asFigure=True,\n",
    "                   filename='logger_%s' % log_id)\n",
    "\n",
    "    fig['layout'].update(height=600, width=1200, \n",
    "                         title='Logger ID: %s' % log_id)\n",
    "\n",
    "    py.plotly.plot(fig, filename='logger_%s' % log_id)    "
   ]
  },
  {
   "cell_type": "markdown",
   "metadata": {},
   "source": [
    "## 4. View results\n",
    "\n",
    "The online plots can be found here:\n",
    "\n",
    " * **[Logger 17113521](https://plot.ly/~James_Sample/14.embed)**\n",
    " \n",
    " * **[Logger 18033677](https://plot.ly/~James_Sample/12.embed)**"
   ]
  }
 ],
 "metadata": {
  "kernelspec": {
   "display_name": "Python 2",
   "language": "python",
   "name": "python2"
  },
  "language_info": {
   "codemirror_mode": {
    "name": "ipython",
    "version": 2
   },
   "file_extension": ".py",
   "mimetype": "text/x-python",
   "name": "python",
   "nbconvert_exporter": "python",
   "pygments_lexer": "ipython2",
   "version": "2.7.13"
  }
 },
 "nbformat": 4,
 "nbformat_minor": 2
}
