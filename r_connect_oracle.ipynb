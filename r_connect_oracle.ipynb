{
 "cells": [
  {
   "cell_type": "markdown",
   "metadata": {},
   "source": [
    "# Connecting to NIVABASEN from R\n",
    "\n",
    "**Note:** I very rarely use R for this, so it may not be the best approach!\n",
    "\n",
    "This code will only work from inside the NIVA network (i.e. from a NIVA computer at the office or connected via the VPN).\n",
    "\n",
    " 1. First install the Oracle client. See e.g. [here](https://github.com/NIVANorge/niva_datasci_toolkit/blob/47046bdd62fe32975da565ec0f2f3ee9d27b8594/jupyterhub_base/Dockerfile#L32)\n",
    " \n",
    " 2. Set environment variables\n",
    " \n",
    "            export OCI_LIB=/usr/local/oracle/lib/oracle/11.2/client64/lib\n",
    "            export OCI_INC=/usr/local/oracle/include/oracle/11.2/client64               \n",
    "            export LD_LIBRARY_PATH=/usr/local/oracle/lib/oracle/11.2/client64/lib:$LD_LIBRARY_PATH\n",
    "        \n",
    "        \n",
    " 3. Install `ROracle`\n",
    " \n",
    "            install.packages(\"ROracle\")\n",
    "            \n",
    " 4. Try running the code below"
   ]
  },
  {
   "cell_type": "code",
   "execution_count": 1,
   "metadata": {},
   "outputs": [
    {
     "name": "stderr",
     "output_type": "stream",
     "text": [
      "Loading required package: DBI\n",
      "\n"
     ]
    }
   ],
   "source": [
    "library(\"ROracle\")\n",
    "library(\"getPass\")"
   ]
  },
  {
   "cell_type": "markdown",
   "metadata": {},
   "source": [
    "### Get user credentials"
   ]
  },
  {
   "cell_type": "code",
   "execution_count": 2,
   "metadata": {},
   "outputs": [
    {
     "name": "stdin",
     "output_type": "stream",
     "text": [
      "Username:  ···\n"
     ]
    }
   ],
   "source": [
    "user <- getPass(\"Username: \")"
   ]
  },
  {
   "cell_type": "code",
   "execution_count": 3,
   "metadata": {},
   "outputs": [
    {
     "name": "stdin",
     "output_type": "stream",
     "text": [
      "Password:  ········\n"
     ]
    }
   ],
   "source": [
    "pw <- getPass(\"Password: \")"
   ]
  },
  {
   "cell_type": "markdown",
   "metadata": {},
   "source": [
    "### Connect to database"
   ]
  },
  {
   "cell_type": "code",
   "execution_count": 4,
   "metadata": {},
   "outputs": [],
   "source": [
    "host <- \"nivabase.niva.no\"\n",
    "port <- 1521\n",
    "sid <- \"nivabase\"\n",
    "drv <- dbDriver(\"Oracle\")\n",
    "\n",
    "connect.string <- paste(\n",
    "    \"(DESCRIPTION=\", \n",
    "    \"(ADDRESS=(PROTOCOL=tcp)(HOST=\", host, \")(PORT=\", port, \"))\", \n",
    "    \"(CONNECT_DATA=(SID=\", sid, \")))\", \n",
    "    sep = \"\"\n",
    ")\n",
    "\n",
    "con <- dbConnect(\n",
    "    drv, \n",
    "    username = user, \n",
    "    password = pw, \n",
    "    dbname = connect.string,\n",
    ")"
   ]
  },
  {
   "cell_type": "markdown",
   "metadata": {},
   "source": [
    "### Run queries"
   ]
  },
  {
   "cell_type": "code",
   "execution_count": 5,
   "metadata": {},
   "outputs": [
    {
     "data": {
      "text/html": [
       "<table>\n",
       "<caption>A data.frame: 6 × 7</caption>\n",
       "<thead>\n",
       "\t<tr><th></th><th scope=col>PROJECT_ID</th><th scope=col>PROJECT_NAME</th><th scope=col>PROJECT_DESCRIPTION</th><th scope=col>STARTDATE</th><th scope=col>ENDDATE</th><th scope=col>ENTERED_BY</th><th scope=col>ENTERED_DATE</th></tr>\n",
       "\t<tr><th></th><th scope=col>&lt;dbl&gt;</th><th scope=col>&lt;chr&gt;</th><th scope=col>&lt;chr&gt;</th><th scope=col>&lt;dttm&gt;</th><th scope=col>&lt;dttm&gt;</th><th scope=col>&lt;chr&gt;</th><th scope=col>&lt;dttm&gt;</th></tr>\n",
       "</thead>\n",
       "<tbody>\n",
       "\t<tr><th scope=row>1</th><td>2380</td><td>Trondheimsfjorden 1540_83     </td><td>1540_83  </td><td>NA</td><td>NA</td><td>ABM</td><td>2007-06-14 13:03:34</td></tr>\n",
       "\t<tr><th scope=row>2</th><td>2381</td><td>Trondheimsfjorden 1641_84     </td><td>1641_84  </td><td>NA</td><td>NA</td><td>ABM</td><td>2007-06-14 13:03:34</td></tr>\n",
       "\t<tr><th scope=row>3</th><td>2382</td><td>Tvedestrand supp. sedimentund.</td><td>4986-2005</td><td>NA</td><td>NA</td><td>JVE</td><td>2012-05-08 13:26:00</td></tr>\n",
       "\t<tr><th scope=row>4</th><td>2383</td><td>Varangerfjorden 2213_89       </td><td>2213_89  </td><td>NA</td><td>NA</td><td>ABM</td><td>2007-06-14 13:03:34</td></tr>\n",
       "\t<tr><th scope=row>5</th><td>2384</td><td>Varangerfjorden 3281_95       </td><td>3281_95  </td><td>NA</td><td>NA</td><td>ABM</td><td>2007-06-14 13:03:34</td></tr>\n",
       "\t<tr><th scope=row>6</th><td>2385</td><td>Vefsnfjorden 1330_81          </td><td>1330_81  </td><td>NA</td><td>NA</td><td>ABM</td><td>2007-06-14 13:03:34</td></tr>\n",
       "</tbody>\n",
       "</table>\n"
      ],
      "text/latex": [
       "A data.frame: 6 × 7\n",
       "\\begin{tabular}{r|lllllll}\n",
       "  & PROJECT\\_ID & PROJECT\\_NAME & PROJECT\\_DESCRIPTION & STARTDATE & ENDDATE & ENTERED\\_BY & ENTERED\\_DATE\\\\\n",
       "  & <dbl> & <chr> & <chr> & <dttm> & <dttm> & <chr> & <dttm>\\\\\n",
       "\\hline\n",
       "\t1 & 2380 & Trondheimsfjorden 1540\\_83      & 1540\\_83   & NA & NA & ABM & 2007-06-14 13:03:34\\\\\n",
       "\t2 & 2381 & Trondheimsfjorden 1641\\_84      & 1641\\_84   & NA & NA & ABM & 2007-06-14 13:03:34\\\\\n",
       "\t3 & 2382 & Tvedestrand supp. sedimentund. & 4986-2005 & NA & NA & JVE & 2012-05-08 13:26:00\\\\\n",
       "\t4 & 2383 & Varangerfjorden 2213\\_89        & 2213\\_89   & NA & NA & ABM & 2007-06-14 13:03:34\\\\\n",
       "\t5 & 2384 & Varangerfjorden 3281\\_95        & 3281\\_95   & NA & NA & ABM & 2007-06-14 13:03:34\\\\\n",
       "\t6 & 2385 & Vefsnfjorden 1330\\_81           & 1330\\_81   & NA & NA & ABM & 2007-06-14 13:03:34\\\\\n",
       "\\end{tabular}\n"
      ],
      "text/markdown": [
       "\n",
       "A data.frame: 6 × 7\n",
       "\n",
       "| <!--/--> | PROJECT_ID &lt;dbl&gt; | PROJECT_NAME &lt;chr&gt; | PROJECT_DESCRIPTION &lt;chr&gt; | STARTDATE &lt;dttm&gt; | ENDDATE &lt;dttm&gt; | ENTERED_BY &lt;chr&gt; | ENTERED_DATE &lt;dttm&gt; |\n",
       "|---|---|---|---|---|---|---|---|\n",
       "| 1 | 2380 | Trondheimsfjorden 1540_83      | 1540_83   | NA | NA | ABM | 2007-06-14 13:03:34 |\n",
       "| 2 | 2381 | Trondheimsfjorden 1641_84      | 1641_84   | NA | NA | ABM | 2007-06-14 13:03:34 |\n",
       "| 3 | 2382 | Tvedestrand supp. sedimentund. | 4986-2005 | NA | NA | JVE | 2012-05-08 13:26:00 |\n",
       "| 4 | 2383 | Varangerfjorden 2213_89        | 2213_89   | NA | NA | ABM | 2007-06-14 13:03:34 |\n",
       "| 5 | 2384 | Varangerfjorden 3281_95        | 3281_95   | NA | NA | ABM | 2007-06-14 13:03:34 |\n",
       "| 6 | 2385 | Vefsnfjorden 1330_81           | 1330_81   | NA | NA | ABM | 2007-06-14 13:03:34 |\n",
       "\n"
      ],
      "text/plain": [
       "  PROJECT_ID PROJECT_NAME                   PROJECT_DESCRIPTION STARTDATE\n",
       "1 2380       Trondheimsfjorden 1540_83      1540_83             <NA>     \n",
       "2 2381       Trondheimsfjorden 1641_84      1641_84             <NA>     \n",
       "3 2382       Tvedestrand supp. sedimentund. 4986-2005           <NA>     \n",
       "4 2383       Varangerfjorden 2213_89        2213_89             <NA>     \n",
       "5 2384       Varangerfjorden 3281_95        3281_95             <NA>     \n",
       "6 2385       Vefsnfjorden 1330_81           1330_81             <NA>     \n",
       "  ENDDATE ENTERED_BY ENTERED_DATE       \n",
       "1 <NA>    ABM        2007-06-14 13:03:34\n",
       "2 <NA>    ABM        2007-06-14 13:03:34\n",
       "3 <NA>    JVE        2012-05-08 13:26:00\n",
       "4 <NA>    ABM        2007-06-14 13:03:34\n",
       "5 <NA>    ABM        2007-06-14 13:03:34\n",
       "6 <NA>    ABM        2007-06-14 13:03:34"
      ]
     },
     "metadata": {},
     "output_type": "display_data"
    }
   ],
   "source": [
    "rs <- dbSendQuery(con, \"SELECT * FROM nivadatabase.projects\")\n",
    "data <- fetch(rs)\n",
    "head(data)"
   ]
  }
 ],
 "metadata": {
  "kernelspec": {
   "display_name": "R",
   "language": "R",
   "name": "ir"
  },
  "language_info": {
   "codemirror_mode": "r",
   "file_extension": ".r",
   "mimetype": "text/x-r-source",
   "name": "R",
   "pygments_lexer": "r",
   "version": "4.0.3"
  }
 },
 "nbformat": 4,
 "nbformat_minor": 4
}
