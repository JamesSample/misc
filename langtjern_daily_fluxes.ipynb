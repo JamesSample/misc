{
 "cells": [
  {
   "cell_type": "code",
   "execution_count": 1,
   "metadata": {},
   "outputs": [],
   "source": [
    "import pandas as pd"
   ]
  },
  {
   "cell_type": "markdown",
   "metadata": {},
   "source": [
    "# Langtjern flux calculations\n",
    "\n",
    "Espen needs some simple fluxes calculating for Langtjern. I've copied his Excel files for chemistry and discharge into separate sheets in a single file called `'langtjern_tidied.xlsx'`.\n",
    "\n",
    "**Note:** I'm assuming all mercury values are in ng/l."
   ]
  },
  {
   "cell_type": "code",
   "execution_count": 2,
   "metadata": {},
   "outputs": [
    {
     "name": "stdout",
     "output_type": "stream",
     "text": [
      "date              0\n",
      "Q_LAE01_m3/s      0\n",
      "Q_LAE02_m3/s    366\n",
      "Q_LAE03_m3/s    366\n",
      "dtype: int64\n"
     ]
    },
    {
     "data": {
      "text/html": [
       "<div>\n",
       "<style scoped>\n",
       "    .dataframe tbody tr th:only-of-type {\n",
       "        vertical-align: middle;\n",
       "    }\n",
       "\n",
       "    .dataframe tbody tr th {\n",
       "        vertical-align: top;\n",
       "    }\n",
       "\n",
       "    .dataframe thead th {\n",
       "        text-align: right;\n",
       "    }\n",
       "</style>\n",
       "<table border=\"1\" class=\"dataframe\">\n",
       "  <thead>\n",
       "    <tr style=\"text-align: right;\">\n",
       "      <th></th>\n",
       "      <th>date</th>\n",
       "      <th>Q_LAE01_m3/s</th>\n",
       "      <th>Q_LAE02_m3/s</th>\n",
       "      <th>Q_LAE03_m3/s</th>\n",
       "    </tr>\n",
       "  </thead>\n",
       "  <tbody>\n",
       "    <tr>\n",
       "      <th>0</th>\n",
       "      <td>2008-01-01</td>\n",
       "      <td>0.022432</td>\n",
       "      <td>0.010192</td>\n",
       "      <td>0.004525</td>\n",
       "    </tr>\n",
       "    <tr>\n",
       "      <th>1</th>\n",
       "      <td>2008-01-02</td>\n",
       "      <td>0.023341</td>\n",
       "      <td>0.008469</td>\n",
       "      <td>0.003760</td>\n",
       "    </tr>\n",
       "    <tr>\n",
       "      <th>2</th>\n",
       "      <td>2008-01-03</td>\n",
       "      <td>0.024266</td>\n",
       "      <td>0.010440</td>\n",
       "      <td>0.004635</td>\n",
       "    </tr>\n",
       "    <tr>\n",
       "      <th>3</th>\n",
       "      <td>2008-01-04</td>\n",
       "      <td>0.025758</td>\n",
       "      <td>0.012918</td>\n",
       "      <td>0.005735</td>\n",
       "    </tr>\n",
       "    <tr>\n",
       "      <th>4</th>\n",
       "      <td>2008-01-05</td>\n",
       "      <td>0.028990</td>\n",
       "      <td>0.016682</td>\n",
       "      <td>0.007406</td>\n",
       "    </tr>\n",
       "  </tbody>\n",
       "</table>\n",
       "</div>"
      ],
      "text/plain": [
       "        date  Q_LAE01_m3/s  Q_LAE02_m3/s  Q_LAE03_m3/s\n",
       "0 2008-01-01      0.022432      0.010192      0.004525\n",
       "1 2008-01-02      0.023341      0.008469      0.003760\n",
       "2 2008-01-03      0.024266      0.010440      0.004635\n",
       "3 2008-01-04      0.025758      0.012918      0.005735\n",
       "4 2008-01-05      0.028990      0.016682      0.007406"
      ]
     },
     "execution_count": 2,
     "metadata": {},
     "output_type": "execute_result"
    }
   ],
   "source": [
    "# Read data\n",
    "in_xlsx = 'langtjern_tidied.xlsx'\n",
    "chem_df = pd.read_excel(in_xlsx, sheet_name='chem')\n",
    "flow_df = pd.read_excel(in_xlsx, sheet_name='flow')\n",
    "\n",
    "# Unpivot flows\n",
    "flow_df.set_index(['stn_code', 'date'], inplace=True)\n",
    "flow_df = flow_df.unstack(level='stn_code')\n",
    "flow_df.reset_index(inplace=True)\n",
    "flow_df.columns = ['date', 'Q_LAE01_m3/s', 'Q_LAE02_m3/s', 'Q_LAE03_m3/s']\n",
    "\n",
    "# Check for nulls\n",
    "print(pd.isnull(flow_df).sum())\n",
    "\n",
    "flow_df.head()"
   ]
  },
  {
   "cell_type": "code",
   "execution_count": 3,
   "metadata": {},
   "outputs": [
    {
     "data": {
      "text/html": [
       "<div>\n",
       "<style scoped>\n",
       "    .dataframe tbody tr th:only-of-type {\n",
       "        vertical-align: middle;\n",
       "    }\n",
       "\n",
       "    .dataframe tbody tr th {\n",
       "        vertical-align: top;\n",
       "    }\n",
       "\n",
       "    .dataframe thead th {\n",
       "        text-align: right;\n",
       "    }\n",
       "</style>\n",
       "<table border=\"1\" class=\"dataframe\">\n",
       "  <thead>\n",
       "    <tr style=\"text-align: right;\">\n",
       "      <th></th>\n",
       "      <th>stn_code</th>\n",
       "      <th>date</th>\n",
       "      <th>toc_mg/l</th>\n",
       "      <th>hg_ng/l</th>\n",
       "      <th>mehg_ng/l</th>\n",
       "    </tr>\n",
       "  </thead>\n",
       "  <tbody>\n",
       "    <tr>\n",
       "      <th>0</th>\n",
       "      <td>LAE01</td>\n",
       "      <td>2008-05-19</td>\n",
       "      <td>6.5</td>\n",
       "      <td>2.74350</td>\n",
       "      <td>0.09198</td>\n",
       "    </tr>\n",
       "    <tr>\n",
       "      <th>1</th>\n",
       "      <td>LAE01</td>\n",
       "      <td>2008-06-22</td>\n",
       "      <td>6.2</td>\n",
       "      <td>2.78775</td>\n",
       "      <td>0.09603</td>\n",
       "    </tr>\n",
       "    <tr>\n",
       "      <th>2</th>\n",
       "      <td>LAE01</td>\n",
       "      <td>2008-07-21</td>\n",
       "      <td>8.9</td>\n",
       "      <td>3.89400</td>\n",
       "      <td>0.09603</td>\n",
       "    </tr>\n",
       "    <tr>\n",
       "      <th>3</th>\n",
       "      <td>LAE01</td>\n",
       "      <td>2008-08-25</td>\n",
       "      <td>12.7</td>\n",
       "      <td>3.89400</td>\n",
       "      <td>0.08536</td>\n",
       "    </tr>\n",
       "    <tr>\n",
       "      <th>4</th>\n",
       "      <td>LAE01</td>\n",
       "      <td>2008-09-15</td>\n",
       "      <td>12.8</td>\n",
       "      <td>3.09750</td>\n",
       "      <td>0.11737</td>\n",
       "    </tr>\n",
       "  </tbody>\n",
       "</table>\n",
       "</div>"
      ],
      "text/plain": [
       "  stn_code       date  toc_mg/l  hg_ng/l  mehg_ng/l\n",
       "0    LAE01 2008-05-19       6.5  2.74350    0.09198\n",
       "1    LAE01 2008-06-22       6.2  2.78775    0.09603\n",
       "2    LAE01 2008-07-21       8.9  3.89400    0.09603\n",
       "3    LAE01 2008-08-25      12.7  3.89400    0.08536\n",
       "4    LAE01 2008-09-15      12.8  3.09750    0.11737"
      ]
     },
     "execution_count": 3,
     "metadata": {},
     "output_type": "execute_result"
    }
   ],
   "source": [
    "chem_df.head()"
   ]
  },
  {
   "cell_type": "markdown",
   "metadata": {},
   "source": [
    "Flow data are available for three stations, all starting 01/01/2008. Sites LAE02 and LAE03 both have 366 missing values in the table above, which suggests these data series are exacly one year shorter than the series for LAE01. A quick check in the Excel file confirms this: the series for LAE01 ends on 31/12/2016, whereas the other two series stop at the end of 2015. "
   ]
  },
  {
   "cell_type": "code",
   "execution_count": 4,
   "metadata": {},
   "outputs": [
    {
     "data": {
      "text/plain": [
       "array(['LAE01', 'LAE02', 'LAE03', 'LAE11'], dtype=object)"
      ]
     },
     "execution_count": 4,
     "metadata": {},
     "output_type": "execute_result"
    }
   ],
   "source": [
    "# Unique sites in chem data\n",
    "all_stns = chem_df['stn_code'].unique()\n",
    "\n",
    "all_stns"
   ]
  },
  {
   "cell_type": "markdown",
   "metadata": {},
   "source": [
    "As shown above, the chemistry file has data for 4 sites. The workflow is as follows:\n",
    "\n",
    " 1. For all sites:\n",
    " \n",
    "   * Create a time series with daily resolution from 2008 to 2017 inclusive\n",
    "   * Match water chemistry sample dates to this series and linearly interpolate over data gaps <br><br>    \n",
    "   \n",
    " 2. For LAE01, LAE02 and LAE03:\n",
    " \n",
    "   * Match the daily concentartions to daily discharges\n",
    "   * Calculate daily fluxes as $(flow \\times concentration)$\n",
    "   \n",
    "## 1. Daily concentrations"
   ]
  },
  {
   "cell_type": "code",
   "execution_count": 5,
   "metadata": {},
   "outputs": [],
   "source": [
    "# Prepare to write output file\n",
    "writer = pd.ExcelWriter('langtjern_fluxes.xlsx')\n",
    "\n",
    "# Dataframe of dates from 2008 to 2017\n",
    "date_df = pd.DataFrame({'date':pd.date_range(start='2008-01-01', \n",
    "                                             end='2017-12-31', \n",
    "                                             freq='D')})\n",
    "\n",
    "# Loop over stns\n",
    "for stn in all_stns:\n",
    "    # Get chem data for this stn\n",
    "    stn_chem_df = chem_df.query(\"stn_code == @stn\")\n",
    "    del stn_chem_df['stn_code']\n",
    "\n",
    "    # Join to dates\n",
    "    stn_chem_df = pd.merge(date_df, stn_chem_df, \n",
    "                           how='left', on='date')\n",
    "    \n",
    "    # Interpolate\n",
    "    stn_chem_df.interpolate(method='linear', inplace=True, limit_direction='both')\n",
    "    \n",
    "    # Add stn_code\n",
    "    stn_chem_df['stn_code'] = stn\n",
    "    \n",
    "    # Reorder cols\n",
    "    stn_chem_df = stn_chem_df[['stn_code', 'date', 'toc_mg/l', \n",
    "                               'hg_ng/l', 'mehg_ng/l']]\n",
    "    \n",
    "    stn_chem_df.to_excel(writer, \n",
    "                         sheet_name='%s_intep_chem' % stn, \n",
    "                         index=False)\n",
    "    \n",
    "    writer.save()"
   ]
  },
  {
   "cell_type": "markdown",
   "metadata": {},
   "source": [
    "## 2. Fluxes"
   ]
  },
  {
   "cell_type": "code",
   "execution_count": 6,
   "metadata": {},
   "outputs": [],
   "source": [
    "# Loop over stations with Q data\n",
    "for stn in ['LAE01', 'LAE02', 'LAE03']:\n",
    "    # Get flow data\n",
    "    stn_q_df = flow_df[['date', 'Q_%s_m3/s' % stn]]\n",
    "    \n",
    "    # Get chem df\n",
    "    stn_chem_df = pd.read_excel('langtjern_fluxes.xlsx',\n",
    "                                sheet_name='%s_intep_chem' % stn)\n",
    "    \n",
    "    # Join\n",
    "    df = pd.merge(stn_q_df, stn_chem_df, \n",
    "                  how='left', on='date')\n",
    "    \n",
    "    # Rename flow column\n",
    "    df.rename({'Q_%s_m3/s' % stn:'Q_m3/s'},\n",
    "              axis='columns',\n",
    "              inplace=True)\n",
    "    \n",
    "    # Calculate fluxes\n",
    "    df['F_toc_mg/s'] = 1000*df['Q_m3/s']*df['toc_mg/l']\n",
    "    df['F_hg_ng/s'] = 1000*df['Q_m3/s']*df['hg_ng/l']\n",
    "    df['F_mehg_ng/s'] = 1000*df['Q_m3/s']*df['mehg_ng/l']\n",
    "    \n",
    "    df.to_excel(writer, \n",
    "                sheet_name='%s_fluxes' % stn, \n",
    "                index=False)\n",
    "    \n",
    "    writer.save()"
   ]
  }
 ],
 "metadata": {
  "kernelspec": {
   "display_name": "Python 3",
   "language": "python",
   "name": "python3"
  },
  "language_info": {
   "codemirror_mode": {
    "name": "ipython",
    "version": 3
   },
   "file_extension": ".py",
   "mimetype": "text/x-python",
   "name": "python",
   "nbconvert_exporter": "python",
   "pygments_lexer": "ipython3",
   "version": "3.6.4"
  }
 },
 "nbformat": 4,
 "nbformat_minor": 2
}
