{
 "cells": [
  {
   "cell_type": "code",
   "execution_count": null,
   "metadata": {
    "tags": []
   },
   "outputs": [],
   "source": [
    "%matplotlib inline\n",
    "import calendar\n",
    "import glob\n",
    "import os\n",
    "\n",
    "import matplotlib.pyplot as plt\n",
    "import nivapy3 as nivapy\n",
    "import numpy as np\n",
    "import pandas as pd\n",
    "import seaborn as sn\n",
    "\n",
    "plt.style.use(\"ggplot\")\n",
    "api_key = \"IoH2W0hZ7ka8icl51rn6zw==\""
   ]
  },
  {
   "cell_type": "code",
   "execution_count": null,
   "metadata": {
    "tags": []
   },
   "outputs": [],
   "source": [
    "# Connect to db\n",
    "engine = nivapy.da.connect()"
   ]
  },
  {
   "cell_type": "markdown",
   "metadata": {},
   "source": [
    "# Update FELTFO discharge\n",
    "\n",
    "This notebook uses the NVE API to update RESA with the latest discharge data for the FELTFO stations."
   ]
  },
  {
   "cell_type": "code",
   "execution_count": null,
   "metadata": {
    "tags": []
   },
   "outputs": [],
   "source": [
    "# Define parameters and time period of interest\n",
    "nve_stn_ids = [\"20.11.0\", \"12.188.0\", \"27.26.0\", \"19.96.0\", \"247.3.0\", \"111.5.0\"]\n",
    "par_ids = [1001]\n",
    "year = 2022"
   ]
  },
  {
   "cell_type": "markdown",
   "metadata": {},
   "source": [
    "## 1. GET NVE data"
   ]
  },
  {
   "cell_type": "code",
   "execution_count": null,
   "metadata": {
    "tags": []
   },
   "outputs": [],
   "source": [
    "# List all stations\n",
    "stn_df = nivapy.da.get_nve_hydapi_stations(api_key=api_key)\n",
    "stn_df = stn_df.query(\"station_id in @nve_stn_ids\")\n",
    "stn_df"
   ]
  },
  {
   "cell_type": "code",
   "execution_count": null,
   "metadata": {
    "tags": []
   },
   "outputs": [],
   "source": [
    "# Get discharge\n",
    "st_dt = f\"{year}-01-01\"\n",
    "end_dt = f\"{year + 1}-01-01\"\n",
    "q_df = nivapy.da.query_nve_hydapi(\n",
    "    nve_stn_ids, par_ids, st_dt, end_dt, resolution=1440, api_key=api_key\n",
    ")\n",
    "q_df.head()"
   ]
  },
  {
   "cell_type": "code",
   "execution_count": null,
   "metadata": {
    "tags": []
   },
   "outputs": [],
   "source": [
    "# Check number of records as expected\n",
    "days = 366 if calendar.isleap(year) else 365\n",
    "assert len(q_df) == 6 * days, \"Number of records is not as expected.\"\n",
    "\n",
    "# Check quality control level\n",
    "print(\"The following records have not completed quality control (i.e. 'quality' < 3)\")\n",
    "print(\"(see https://hydapi.nve.no/UserDocumentation/ for details):\")\n",
    "q_df.query(\"quality != 3\")"
   ]
  },
  {
   "cell_type": "markdown",
   "metadata": {},
   "source": [
    "## 2. Get corresponding discharge station codes from RESA"
   ]
  },
  {
   "cell_type": "code",
   "execution_count": null,
   "metadata": {
    "tags": []
   },
   "outputs": [],
   "source": [
    "stn_id_dict = {}\n",
    "for nve_id in nve_stn_ids:\n",
    "    vnr1, vnr2, vnr3 = nve_id.split(\".\")\n",
    "\n",
    "    # Get RESA2 station ID\n",
    "    sql = (\n",
    "        \"SELECT dis_station_id FROM resa2.discharge_stations \"\n",
    "        \"WHERE nve_serienummer LIKE '%s.%s%%'\" % (vnr1, vnr2)\n",
    "    )\n",
    "    df = pd.read_sql(sql, engine)\n",
    "\n",
    "    if len(df) > 1:\n",
    "        print(\"More than one station found matching NVE ID %s.%s.\" % (vnr1, vnr2))\n",
    "        print(df)\n",
    "\n",
    "    elif len(df) == 0:\n",
    "        print(\"NVE ID %s.%s not found.\" % (vnr1, vnr2))\n",
    "\n",
    "    else:\n",
    "        stn_id = df.iloc[0][\"dis_station_id\"]\n",
    "\n",
    "        # Check whether data already exist for this year\n",
    "        sql = (\n",
    "            \"SELECT count(*) FROM resa2.discharge_values \"\n",
    "            \"WHERE dis_station_id = %s \"\n",
    "            \"AND EXTRACT(YEAR FROM xdate) = %s \" % (stn_id, year)\n",
    "        )\n",
    "        df = pd.read_sql(sql, engine)\n",
    "        cnt = df.iloc[0, 0]\n",
    "\n",
    "        if cnt > 0:\n",
    "            print(\n",
    "                \"%s data already exist for NVE \"\n",
    "                \"station %s.%s (RESA2 ID %s).\" % (cnt, vnr1, vnr2, stn_id)\n",
    "            )\n",
    "\n",
    "    # Add useful results to dict for later\n",
    "    stn_id_dict[nve_id] = stn_id\n",
    "\n",
    "print(\"Finished checking.\")\n",
    "print(\"The NVE:RESA station code mapping is:\")\n",
    "stn_id_dict"
   ]
  },
  {
   "cell_type": "markdown",
   "metadata": {},
   "source": [
    "## 3. Update discharge values\n",
    "\n",
    "Once any issues above have been dealt with, the code below adds the new discharge data to the database."
   ]
  },
  {
   "cell_type": "code",
   "execution_count": null,
   "metadata": {
    "tags": []
   },
   "outputs": [],
   "source": [
    "assert pd.isna(q_df[\"value\"]).sum() == 0, \"q_df contains NaNs.\"\n",
    "\n",
    "q_df[\"dis_station_id\"] = q_df[\"station_id\"].map(stn_id_dict)\n",
    "q_df[\"xvalue\"] = q_df[\"value\"]\n",
    "q_df[\"xdate\"] = q_df[\"datetime\"]\n",
    "q_df[\"xcomment\"] = np.nan\n",
    "q_df = q_df[[\"dis_station_id\", \"xdate\", \"xvalue\", \"xcomment\"]]\n",
    "q_df.head()"
   ]
  },
  {
   "cell_type": "code",
   "execution_count": null,
   "metadata": {
    "tags": []
   },
   "outputs": [],
   "source": [
    "# # Add new rows to database\n",
    "# q_df.to_sql(\n",
    "#     \"discharge_values\", con=engine, schema=\"resa2\", if_exists=\"append\", index=False\n",
    "# )"
   ]
  },
  {
   "cell_type": "markdown",
   "metadata": {},
   "source": [
    "## 4. Area-scaling for `FELTFO` stations\n",
    "\n",
    "The `FELTFO` project involves 6 NVE stations, listed in the table below:\n",
    "\n",
    "| RESA2 chem code | RESA2 discharge code | NVE code |\n",
    "|:---------------:|---------------------:|-----------------------:|\n",
    "| BIE01 | 1 | 20.11 |\n",
    "| LAE01 | 2 | 12.188 |\n",
    "| OVELV 19 23 | 3 | Area-scaled from 27.26 |\n",
    "| STE01 | 21 | 19.96 |\n",
    "| DALELV | 23 | Area-scaled from 247.3 |\n",
    "| KAE01 | 527 | Area-scaled from 111.5 |\n",
    "\n",
    "The first step is to use the code above to upload NVE data for these stations. Once this has been done, data for 3 of the stations can be calculated by area-scaling, and the scaled series are then added to the database as separate datasets.\n",
    "\n",
    "**Note (added 13/09/2018):** There is some confusion regarding which discharge datasets to use for estimating flows at `'KAE01'`. The nearest NVE station is Naustaa (111.10), which has a similar drainage area to the chemistry monitoring station and a largely natural flow regime. However, there are data gaps in the Naustaa record, especially during late 2008 and early 2009. It appears that Tore therefore switched to using data from Toaa (111.5), which is further downstream (catchment area of 150 km2, compared to 25 km2) and more heavily regulated. Rather than simply area-scaling, Tore derived a regression equation relating flows at Toaa to those at `'KAE01'` (i.e. Naustaa), and this relationship has been used subsequently to estimate flows for `'KAE01'` for the period from 2009 to 2015 inclusive. In 2016, I estimated flows by area-scaling the data from Toaa, because this is the general approach applied by RESA2 and Tore's regression methodology was not documented.\n",
    "\n",
    "I have now compared the various discharge records for 111.5, 111.10 and KAE01 - see `'compare_kae01_flows.ipynb'`. It seems to me that area-scaling from Toaa actually works better than the regression approach (see e-mail sent to Liv Bente 13/09/2018 for details). The simplest method for the future would probably be to switch back to using Naustaa. However, because of the potential for future data gaps, I propose that we keep area-scaling from Toaa, which seems to do a reasonable job."
   ]
  },
  {
   "cell_type": "code",
   "execution_count": null,
   "metadata": {
    "tags": []
   },
   "outputs": [],
   "source": [
    "# Dict mapping RESA IDs to the \"parent\" NVE station for scaling\n",
    "# {resa_id : parent_resa_id}\n",
    "scale_dict = {3: 32, 527: 526, 23: 25}\n",
    "\n",
    "# List to store output\n",
    "df_list = []\n",
    "\n",
    "# Loop over stations\n",
    "for stn_id in scale_dict.keys():\n",
    "    # Get parent ID for scaling\n",
    "    par_id = scale_dict[stn_id]\n",
    "\n",
    "    # Get catchment areas\n",
    "    # FELTFO station\n",
    "    sql = (\n",
    "        \"SELECT area from resa2.discharge_stations \"\n",
    "        \"WHERE dis_station_id = %s\" % stn_id\n",
    "    )\n",
    "    df = pd.read_sql(sql, engine)\n",
    "    stn_area = df.iloc[0, 0]\n",
    "\n",
    "    # Parent station\n",
    "    sql = (\n",
    "        \"SELECT area from resa2.discharge_stations \"\n",
    "        \"WHERE dis_station_id = %s\" % par_id\n",
    "    )\n",
    "    df = pd.read_sql(sql, engine)\n",
    "    par_area = df.iloc[0, 0]\n",
    "\n",
    "    # Conversion factor\n",
    "    fac = stn_area / float(par_area)\n",
    "\n",
    "    # Get data for parent for year of interest\n",
    "    sql = (\n",
    "        \"SELECT * from resa2.discharge_values \"\n",
    "        \"WHERE dis_station_id = %s \"\n",
    "        \"AND EXTRACT(YEAR FROM xdate) = %s \" % (par_id, year)\n",
    "    )\n",
    "    df = pd.read_sql(sql, engine)\n",
    "\n",
    "    # Apply correction\n",
    "    df[\"xvalue\"] = df[\"xvalue\"] * fac\n",
    "\n",
    "    # Change station ID\n",
    "    df[\"dis_station_id\"] = stn_id\n",
    "\n",
    "    # Append to output\n",
    "    df_list.append(df)\n",
    "\n",
    "# Stack data\n",
    "df = pd.concat(df_list, axis=0)\n",
    "\n",
    "df.head()"
   ]
  },
  {
   "cell_type": "code",
   "execution_count": null,
   "metadata": {
    "tags": []
   },
   "outputs": [],
   "source": [
    "# # Add new rows to database\n",
    "# df.to_sql(\n",
    "#     \"discharge_values\", con=engine, schema=\"resa2\", if_exists=\"append\", index=False\n",
    "# )"
   ]
  },
  {
   "cell_type": "code",
   "execution_count": null,
   "metadata": {
    "tags": []
   },
   "outputs": [],
   "source": [
    "# # Resa stores daily values as YYYY-MM-DD 00:00:00\n",
    "# # NVE data has YYYY-MM-DD 12:00:00. Remove HH part\n",
    "# sql = (\n",
    "#     \"UPDATE resa2.discharge_values \"\n",
    "#     \"SET xdate = TRUNC(xdate) \"\n",
    "#     \"WHERE EXTRACT(YEAR FROM xdate) = %s \"\n",
    "#     \"AND dis_station_id IN (1, 2, 3, 21, 23, 25, 32, 526, 527)\" % year\n",
    "# )\n",
    "\n",
    "# res = engine.execute(sql)"
   ]
  },
  {
   "cell_type": "markdown",
   "metadata": {},
   "source": [
    "## 5. Test series uploaded correctly\n",
    "\n",
    "**Note:** You need to specify the ID for the *chemistry* station, not the `discharge_station_id`."
   ]
  },
  {
   "cell_type": "code",
   "execution_count": null,
   "metadata": {
    "tags": []
   },
   "outputs": [],
   "source": [
    "# Plot data for specified station\n",
    "stn_id = 108\n",
    "st_dt = f\"{year}-01-01\"\n",
    "end_dt = f\"{year + 1}-12-31\"\n",
    "\n",
    "q_df = nivapy.da.extract_resa_discharge(stn_id, st_dt, end_dt, engine, plot=True)"
   ]
  }
 ],
 "metadata": {
  "kernelspec": {
   "display_name": "Python 3 (ipykernel)",
   "language": "python",
   "name": "python3"
  },
  "language_info": {
   "codemirror_mode": {
    "name": "ipython",
    "version": 3
   },
   "file_extension": ".py",
   "mimetype": "text/x-python",
   "name": "python",
   "nbconvert_exporter": "python",
   "pygments_lexer": "ipython3",
   "version": "3.10.11"
  }
 },
 "nbformat": 4,
 "nbformat_minor": 4
}
